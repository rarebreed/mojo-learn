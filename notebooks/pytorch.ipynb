{
 "cells": [
  {
   "cell_type": "markdown",
   "metadata": {},
   "source": [
    "# Notes on tensor data\n",
    "\n",
    "One of the things that has confused me, is how to represent data that isn't already numerical into something that an ML\n",
    "model can use.  Most of the tutorials you will see cover datasets that are already tensorized or easily so.  These notes\n",
    "are about how to take other data and put them into a form that pytorch can use\n",
    "\n",
    "## Networks as data transformers\n",
    "\n",
    "- A network can be thought of as progressively transforming the input dataset to an output dataset\n",
    "- The output data as some purpose, like classifying the input, or calculating a probability\n",
    "- There are intermediate representations in the transformation process (the layers in the network)\n",
    "- Each IR models some feature about the data, for example, in a dog classsifier, the color of the fur\n",
    "- But to start the process, the input data must be convertible to floatng point data "
   ]
  }
 ],
 "metadata": {
  "language_info": {
   "name": "python"
  }
 },
 "nbformat": 4,
 "nbformat_minor": 2
}
